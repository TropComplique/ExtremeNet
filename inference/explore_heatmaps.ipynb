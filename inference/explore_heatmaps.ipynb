{
 "cells": [
  {
   "cell_type": "code",
   "execution_count": null,
   "metadata": {},
   "outputs": [],
   "source": [
    "import sys\n",
    "import torch\n",
    "from PIL import Image\n",
    "import numpy as np\n",
    "\n",
    "sys.path.append('../')\n",
    "from detector.architecture import Architecture"
   ]
  },
  {
   "cell_type": "markdown",
   "metadata": {},
   "source": [
    "# Load a trained model"
   ]
  },
  {
   "cell_type": "code",
   "execution_count": null,
   "metadata": {},
   "outputs": [],
   "source": [
    "model = Architecture(num_outputs=5 + 10)\n",
    "model.eval()\n",
    "model.load_state_dict(torch.load('../models/run00.pth', map_location=torch.device('cpu')))"
   ]
  },
  {
   "cell_type": "markdown",
   "metadata": {},
   "source": [
    "# Get an image"
   ]
  },
  {
   "cell_type": "code",
   "execution_count": null,
   "metadata": {},
   "outputs": [],
   "source": [
    "image = Image.open('/home/dan/datasets/COCO/images/val2017/000000000885.jpg')\n",
    "print(image.size)\n",
    "image = image.resize((640, 448))\n",
    "image"
   ]
  },
  {
   "cell_type": "markdown",
   "metadata": {},
   "source": [
    "# Predict"
   ]
  },
  {
   "cell_type": "code",
   "execution_count": null,
   "metadata": {},
   "outputs": [],
   "source": [
    "image_tensor = torch.FloatTensor(np.array(image)/255.0)\n",
    "image_tensor = image_tensor.unsqueeze(0).permute(0, 3, 1, 2)\n",
    "\n",
    "with torch.no_grad():\n",
    "    x, features = model(image_tensor)\n",
    "    \n",
    "heatmaps, offsets = torch.split(x, [5, 10], dim=1)\n",
    "heatmaps = torch.sigmoid(heatmaps)[0]"
   ]
  },
  {
   "cell_type": "markdown",
   "metadata": {},
   "source": [
    "# Show masks"
   ]
  },
  {
   "cell_type": "code",
   "execution_count": null,
   "metadata": {},
   "outputs": [],
   "source": [
    "def show_mask(image, mask):\n",
    "\n",
    "    red = np.array([255, 0, 0], dtype='uint8')\n",
    "    gray_mask = mask.numpy().astype('uint8')\n",
    "    color_mask = red * np.expand_dims(gray_mask, 2)\n",
    "\n",
    "    gray_mask = Image.fromarray(100 * gray_mask)\n",
    "    color_mask = Image.fromarray(color_mask)\n",
    "    color_mask.putalpha(gray_mask)\n",
    "    \n",
    "    image_copy = image.copy()\n",
    "    image_copy.putalpha(255)\n",
    "    width, height = image.size\n",
    "    image_copy.alpha_composite(color_mask.resize((width, height)))\n",
    "    return image_copy"
   ]
  },
  {
   "cell_type": "code",
   "execution_count": null,
   "metadata": {},
   "outputs": [],
   "source": [
    "mask = features['p2'][0, 0]\n",
    "mask = (mask - mask.min())/(mask.max() - mask.min())"
   ]
  },
  {
   "cell_type": "code",
   "execution_count": null,
   "metadata": {},
   "outputs": [],
   "source": [
    "show_mask(image, mask > 0.5)"
   ]
  },
  {
   "cell_type": "markdown",
   "metadata": {},
   "source": [
    "# Show heatmaps"
   ]
  },
  {
   "cell_type": "code",
   "execution_count": null,
   "metadata": {},
   "outputs": [],
   "source": [
    "image_copy = image.copy()\n",
    "image_copy.putalpha(255)\n",
    "width, height = image.size\n",
    "\n",
    "colors = {\n",
    "    0: [255, 0, 0],  # red - top\n",
    "    1: [0, 0, 255],  # blue - bottom\n",
    "    2: [255, 255, 0],  # yellow - left\n",
    "    3: [255, 0, 255],  # pink - right\n",
    "    4: [0, 255, 0]  # green - center\n",
    "}\n",
    "\n",
    "for i, color in colors.items():\n",
    "\n",
    "    h = np.expand_dims(heatmaps[i].numpy() > 0.1, 2)\n",
    "    gray_h = Image.fromarray(255*h[:, :, 0].astype('uint8'))\n",
    "    color_h = Image.fromarray((color * h).astype('uint8'))\n",
    "    \n",
    "    color_h = color_h.resize((width, height))\n",
    "    color_h.putalpha(gray_h.resize((width, height)))\n",
    "    \n",
    "    image_copy.alpha_composite(color_h)\n",
    "    \n",
    "image_copy"
   ]
  }
 ],
 "metadata": {
  "kernelspec": {
   "display_name": "Python 3",
   "language": "python",
   "name": "python3"
  },
  "language_info": {
   "codemirror_mode": {
    "name": "ipython",
    "version": 3
   },
   "file_extension": ".py",
   "mimetype": "text/x-python",
   "name": "python",
   "nbconvert_exporter": "python",
   "pygments_lexer": "ipython3",
   "version": "3.6.7"
  }
 },
 "nbformat": 4,
 "nbformat_minor": 2
}
