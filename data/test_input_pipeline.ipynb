{
 "cells": [
  {
   "cell_type": "code",
   "execution_count": null,
   "metadata": {},
   "outputs": [],
   "source": [
    "%load_ext autoreload\n",
    "%autoreload 2"
   ]
  },
  {
   "cell_type": "code",
   "execution_count": null,
   "metadata": {},
   "outputs": [],
   "source": [
    "import numpy as np\n",
    "import sys\n",
    "from PIL import Image, ImageDraw\n",
    "\n",
    "\n",
    "sys.path.append('/home/dan/work/cocoapi/PythonAPI/')\n",
    "from pycocotools.coco import COCO\n",
    "\n",
    "sys.path.append('../')\n",
    "from detector.input_pipeline import ExtremePointsDataset"
   ]
  },
  {
   "cell_type": "code",
   "execution_count": null,
   "metadata": {},
   "outputs": [],
   "source": [
    "IMAGES = '/home/dan/datasets/COCO/images/train2017/'\n",
    "ANNOTATIONS = '/home/dan/datasets/COCO/annotations/person_keypoints_train2017.json'"
   ]
  },
  {
   "cell_type": "code",
   "execution_count": null,
   "metadata": {},
   "outputs": [],
   "source": [
    "data = ExtremePointsDataset(\n",
    "    COCO(ANNOTATIONS), image_folder=IMAGES, \n",
    "    is_training=True, training_size=640\n",
    ")"
   ]
  },
  {
   "cell_type": "markdown",
   "metadata": {},
   "source": [
    "# Get a training example"
   ]
  },
  {
   "cell_type": "code",
   "execution_count": null,
   "metadata": {},
   "outputs": [],
   "source": [
    "%%time\n",
    "image, heatmaps, offsets, masks, num_boxes = data[400]"
   ]
  },
  {
   "cell_type": "code",
   "execution_count": null,
   "metadata": {},
   "outputs": [],
   "source": [
    "assert 5 * num_boxes == (heatmaps == 1).sum()\n",
    "print('number of persons:', num_boxes)"
   ]
  },
  {
   "cell_type": "code",
   "execution_count": null,
   "metadata": {},
   "outputs": [],
   "source": [
    "np.unique(masks.numpy())"
   ]
  },
  {
   "cell_type": "markdown",
   "metadata": {},
   "source": [
    "# Show the image with masks"
   ]
  },
  {
   "cell_type": "code",
   "execution_count": null,
   "metadata": {},
   "outputs": [],
   "source": [
    "# convert to the pil format\n",
    "image = Image.fromarray((255*image.numpy()).astype('uint8'))\n",
    "width, height = image.size\n",
    "image.putalpha(255)"
   ]
  },
  {
   "cell_type": "code",
   "execution_count": null,
   "metadata": {},
   "outputs": [],
   "source": [
    "def show_mask(image, mask):\n",
    "\n",
    "    red = np.array([255, 0, 0], dtype='uint8')\n",
    "    gray_mask = mask.numpy().astype('uint8')\n",
    "    color_mask = red * np.expand_dims(gray_mask, 2)\n",
    "\n",
    "    gray_mask = Image.fromarray(100 * gray_mask)\n",
    "    color_mask = Image.fromarray(color_mask)\n",
    "    color_mask.putalpha(gray_mask)\n",
    "    \n",
    "    image_copy = image.copy()\n",
    "    image_copy.alpha_composite(color_mask.resize((width, height)))\n",
    "    return image_copy"
   ]
  },
  {
   "cell_type": "code",
   "execution_count": null,
   "metadata": {},
   "outputs": [],
   "source": [
    "show_mask(image, masks[0])"
   ]
  },
  {
   "cell_type": "code",
   "execution_count": null,
   "metadata": {},
   "outputs": [],
   "source": [
    "show_mask(image, masks[1])"
   ]
  },
  {
   "cell_type": "markdown",
   "metadata": {},
   "source": [
    "# Show the image with heatmaps"
   ]
  },
  {
   "cell_type": "code",
   "execution_count": null,
   "metadata": {},
   "outputs": [],
   "source": [
    "image_copy = image.copy()\n",
    "\n",
    "colors = {\n",
    "    0: [255, 0, 0],  # red - top\n",
    "    1: [0, 0, 255],  # blue - bottom\n",
    "    2: [255, 255, 0],  # yellow - left\n",
    "    3: [255, 0, 255],  # pink - right\n",
    "    4: [0, 255, 0]  # green - center\n",
    "}\n",
    "\n",
    "for i, color in colors.items():\n",
    "\n",
    "    h = np.expand_dims(heatmaps[i].numpy() > 1e-1, 2)\n",
    "    gray_h = Image.fromarray(255*h[:, :, 0].astype('uint8'))\n",
    "    color_h = Image.fromarray((color * h).astype('uint8'))\n",
    "    \n",
    "    color_h = color_h.resize((width, height))\n",
    "    color_h.putalpha(gray_h.resize((width, height)))\n",
    "    \n",
    "    image_copy.alpha_composite(color_h)\n",
    "    \n",
    "image_copy"
   ]
  },
  {
   "cell_type": "markdown",
   "metadata": {},
   "source": [
    "# Show the image with offsets"
   ]
  },
  {
   "cell_type": "code",
   "execution_count": null,
   "metadata": {},
   "outputs": [],
   "source": [
    "stride = 4\n",
    "\n",
    "true_peaks = {}\n",
    "for i in range(5):\n",
    "    \n",
    "    h = heatmaps[i].numpy()\n",
    "    y, x = np.where(h == 1)\n",
    "    vectors = offsets[(2*i):(2*i + 2)].permute(1, 2, 0).numpy()\n",
    "    assert (vectors[h < 1.0] == 0).all()\n",
    "    \n",
    "    offset_vectors = vectors[y, x]\n",
    "    vy = offset_vectors[:, 0]\n",
    "    vx = offset_vectors[:, 1]\n",
    "\n",
    "    true_y = stride * (y + vy)\n",
    "    true_x = stride * (x + vx)\n",
    "\n",
    "    true_peaks[i] = np.stack([true_x, true_y], axis=1)"
   ]
  },
  {
   "cell_type": "code",
   "execution_count": null,
   "metadata": {},
   "outputs": [],
   "source": [
    "image_copy = image.copy()\n",
    "draw = ImageDraw.Draw(image_copy)\n",
    "s = 3\n",
    "\n",
    "for i, peaks in true_peaks.items():\n",
    "    for x, y in peaks:\n",
    "        color = tuple(colors[i])\n",
    "        draw.ellipse([(x - s, y - s), (x + s, y + s)], fill=color)\n",
    "\n",
    "image_copy"
   ]
  }
 ],
 "metadata": {
  "kernelspec": {
   "display_name": "Python 3",
   "language": "python",
   "name": "python3"
  },
  "language_info": {
   "codemirror_mode": {
    "name": "ipython",
    "version": 3
   },
   "file_extension": ".py",
   "mimetype": "text/x-python",
   "name": "python",
   "nbconvert_exporter": "python",
   "pygments_lexer": "ipython3",
   "version": "3.6.7"
  }
 },
 "nbformat": 4,
 "nbformat_minor": 2
}
