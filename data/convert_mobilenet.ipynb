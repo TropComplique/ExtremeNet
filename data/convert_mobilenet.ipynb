{
 "cells": [
  {
   "cell_type": "code",
   "execution_count": null,
   "metadata": {},
   "outputs": [],
   "source": [
    "import sys\n",
    "import numpy as np\n",
    "from PIL import Image\n",
    "import tensorflow as tf\n",
    "import torch\n",
    "import torch.nn as nn\n",
    "\n",
    "# https://github.com/tensorflow/models\n",
    "sys.path.append('/home/dan/work/models/research/slim/nets/')\n",
    "from mobilenet_v1 import mobilenet_v1, mobilenet_v1_arg_scope, slim\n",
    "\n",
    "sys.path.append('../')\n",
    "from detector.backbone import MobileNet"
   ]
  },
  {
   "cell_type": "markdown",
   "metadata": {},
   "source": [
    "# Get an image"
   ]
  },
  {
   "cell_type": "code",
   "execution_count": null,
   "metadata": {},
   "outputs": [],
   "source": [
    "image = Image.open('dog.jpg').resize((224, 224))\n",
    "image = np.expand_dims(np.array(image), 0)\n",
    "image = (image/255.0).astype('float32')"
   ]
  },
  {
   "cell_type": "markdown",
   "metadata": {},
   "source": [
    "# Extract weights from tensorflow"
   ]
  },
  {
   "cell_type": "code",
   "execution_count": null,
   "metadata": {
    "scrolled": true
   },
   "outputs": [],
   "source": [
    "tf.reset_default_graph()\n",
    "\n",
    "inputs = tf.constant(image)\n",
    "scope = mobilenet_v1_arg_scope(is_training=False, weight_decay=0.0)\n",
    "with slim.arg_scope(scope):\n",
    "    logits, _ = mobilenet_v1(2.0 * inputs - 1.0, num_classes=1001, is_training=False)\n",
    "    outputs = tf.nn.softmax(logits, axis=1)[0]\n",
    "    \n",
    "weights = {v.name[:-2]: v for v in tf.global_variables()}\n",
    "saver = tf.train.Saver()\n",
    "\n",
    "\n",
    "with tf.Session() as sess:\n",
    "    saver.restore(sess, '../pretrained/mobilenet_v1_1.0_224.ckpt')\n",
    "    tf_outputs, weights = sess.run([outputs, weights])\n",
    "\n",
    "weights = {n: torch.FloatTensor(w) for n, w in weights.items()}"
   ]
  },
  {
   "cell_type": "markdown",
   "metadata": {},
   "source": [
    "# Create mapping between the names of weights"
   ]
  },
  {
   "cell_type": "code",
   "execution_count": null,
   "metadata": {},
   "outputs": [],
   "source": [
    "batch_norms = {'beginning.1': 'MobilenetV1/Conv2d_0/BatchNorm/'}\n",
    "for i in range(1, 14):\n",
    "    batch_norms.update({\n",
    "        f'layers.{i - 1}.layers.1': f'MobilenetV1/Conv2d_{i}_depthwise/BatchNorm/',\n",
    "        f'layers.{i - 1}.layers.4': f'MobilenetV1/Conv2d_{i}_pointwise/BatchNorm/'\n",
    "    })\n",
    "        \n",
    "mapping = {\n",
    "    'beginning.0.weight': 'MobilenetV1/Conv2d_0/weights',\n",
    "    'beginning.1.weight': 'MobilenetV1/Conv2d_0/BatchNorm/gamma',\n",
    "    'beginning.1.bias': 'MobilenetV1/Conv2d_0/BatchNorm/beta',\n",
    "    'layers.0.layers.0.weight': 'MobilenetV1/Conv2d_1_depthwise/depthwise_weights',\n",
    "    'layers.1.layers.0.weight': 'MobilenetV1/Conv2d_2_depthwise/depthwise_weights',\n",
    "    'layers.2.layers.0.weight': 'MobilenetV1/Conv2d_3_depthwise/depthwise_weights',\n",
    "    'layers.3.layers.0.weight': 'MobilenetV1/Conv2d_4_depthwise/depthwise_weights',\n",
    "    'layers.4.layers.0.weight': 'MobilenetV1/Conv2d_5_depthwise/depthwise_weights',\n",
    "    'layers.5.layers.0.weight': 'MobilenetV1/Conv2d_6_depthwise/depthwise_weights',\n",
    "    'layers.6.layers.0.weight': 'MobilenetV1/Conv2d_7_depthwise/depthwise_weights',\n",
    "    'layers.7.layers.0.weight': 'MobilenetV1/Conv2d_8_depthwise/depthwise_weights',\n",
    "    'layers.8.layers.0.weight': 'MobilenetV1/Conv2d_9_depthwise/depthwise_weights',\n",
    "    'layers.9.layers.0.weight': 'MobilenetV1/Conv2d_10_depthwise/depthwise_weights',\n",
    "    'layers.10.layers.0.weight': 'MobilenetV1/Conv2d_11_depthwise/depthwise_weights',\n",
    "    'layers.11.layers.0.weight': 'MobilenetV1/Conv2d_12_depthwise/depthwise_weights',\n",
    "    'layers.12.layers.0.weight': 'MobilenetV1/Conv2d_13_depthwise/depthwise_weights',\n",
    "    'layers.0.layers.1.weight': 'MobilenetV1/Conv2d_1_depthwise/BatchNorm/gamma',\n",
    "    'layers.1.layers.1.weight': 'MobilenetV1/Conv2d_2_depthwise/BatchNorm/gamma',\n",
    "    'layers.2.layers.1.weight': 'MobilenetV1/Conv2d_3_depthwise/BatchNorm/gamma',\n",
    "    'layers.3.layers.1.weight': 'MobilenetV1/Conv2d_4_depthwise/BatchNorm/gamma',\n",
    "    'layers.4.layers.1.weight': 'MobilenetV1/Conv2d_5_depthwise/BatchNorm/gamma',\n",
    "    'layers.5.layers.1.weight': 'MobilenetV1/Conv2d_6_depthwise/BatchNorm/gamma',\n",
    "    'layers.6.layers.1.weight': 'MobilenetV1/Conv2d_7_depthwise/BatchNorm/gamma',\n",
    "    'layers.7.layers.1.weight': 'MobilenetV1/Conv2d_8_depthwise/BatchNorm/gamma',\n",
    "    'layers.8.layers.1.weight': 'MobilenetV1/Conv2d_9_depthwise/BatchNorm/gamma',\n",
    "    'layers.9.layers.1.weight': 'MobilenetV1/Conv2d_10_depthwise/BatchNorm/gamma',\n",
    "    'layers.10.layers.1.weight': 'MobilenetV1/Conv2d_11_depthwise/BatchNorm/gamma',\n",
    "    'layers.11.layers.1.weight': 'MobilenetV1/Conv2d_12_depthwise/BatchNorm/gamma',\n",
    "    'layers.12.layers.1.weight': 'MobilenetV1/Conv2d_13_depthwise/BatchNorm/gamma',\n",
    "    'layers.0.layers.1.bias': 'MobilenetV1/Conv2d_1_depthwise/BatchNorm/beta',\n",
    "    'layers.1.layers.1.bias': 'MobilenetV1/Conv2d_2_depthwise/BatchNorm/beta',\n",
    "    'layers.2.layers.1.bias': 'MobilenetV1/Conv2d_3_depthwise/BatchNorm/beta',\n",
    "    'layers.3.layers.1.bias': 'MobilenetV1/Conv2d_4_depthwise/BatchNorm/beta',\n",
    "    'layers.4.layers.1.bias': 'MobilenetV1/Conv2d_5_depthwise/BatchNorm/beta',\n",
    "    'layers.5.layers.1.bias': 'MobilenetV1/Conv2d_6_depthwise/BatchNorm/beta',\n",
    "    'layers.6.layers.1.bias': 'MobilenetV1/Conv2d_7_depthwise/BatchNorm/beta',\n",
    "    'layers.7.layers.1.bias': 'MobilenetV1/Conv2d_8_depthwise/BatchNorm/beta',\n",
    "    'layers.8.layers.1.bias': 'MobilenetV1/Conv2d_9_depthwise/BatchNorm/beta',\n",
    "    'layers.9.layers.1.bias': 'MobilenetV1/Conv2d_10_depthwise/BatchNorm/beta',\n",
    "    'layers.10.layers.1.bias': 'MobilenetV1/Conv2d_11_depthwise/BatchNorm/beta',\n",
    "    'layers.11.layers.1.bias': 'MobilenetV1/Conv2d_12_depthwise/BatchNorm/beta',\n",
    "    'layers.12.layers.1.bias': 'MobilenetV1/Conv2d_13_depthwise/BatchNorm/beta',\n",
    "    'layers.0.layers.3.weight': 'MobilenetV1/Conv2d_1_pointwise/weights',\n",
    "    'layers.1.layers.3.weight': 'MobilenetV1/Conv2d_2_pointwise/weights',\n",
    "    'layers.2.layers.3.weight': 'MobilenetV1/Conv2d_3_pointwise/weights',\n",
    "    'layers.3.layers.3.weight': 'MobilenetV1/Conv2d_4_pointwise/weights',\n",
    "    'layers.4.layers.3.weight': 'MobilenetV1/Conv2d_5_pointwise/weights',\n",
    "    'layers.5.layers.3.weight': 'MobilenetV1/Conv2d_6_pointwise/weights',\n",
    "    'layers.6.layers.3.weight': 'MobilenetV1/Conv2d_7_pointwise/weights',\n",
    "    'layers.7.layers.3.weight': 'MobilenetV1/Conv2d_8_pointwise/weights',\n",
    "    'layers.8.layers.3.weight': 'MobilenetV1/Conv2d_9_pointwise/weights',\n",
    "    'layers.9.layers.3.weight': 'MobilenetV1/Conv2d_10_pointwise/weights',\n",
    "    'layers.10.layers.3.weight': 'MobilenetV1/Conv2d_11_pointwise/weights',\n",
    "    'layers.11.layers.3.weight': 'MobilenetV1/Conv2d_12_pointwise/weights',\n",
    "    'layers.12.layers.3.weight': 'MobilenetV1/Conv2d_13_pointwise/weights',\n",
    "    'layers.0.layers.4.weight': 'MobilenetV1/Conv2d_1_pointwise/BatchNorm/gamma',\n",
    "    'layers.1.layers.4.weight': 'MobilenetV1/Conv2d_2_pointwise/BatchNorm/gamma',\n",
    "    'layers.2.layers.4.weight': 'MobilenetV1/Conv2d_3_pointwise/BatchNorm/gamma',\n",
    "    'layers.3.layers.4.weight': 'MobilenetV1/Conv2d_4_pointwise/BatchNorm/gamma',\n",
    "    'layers.4.layers.4.weight': 'MobilenetV1/Conv2d_5_pointwise/BatchNorm/gamma',\n",
    "    'layers.5.layers.4.weight': 'MobilenetV1/Conv2d_6_pointwise/BatchNorm/gamma',\n",
    "    'layers.6.layers.4.weight': 'MobilenetV1/Conv2d_7_pointwise/BatchNorm/gamma',\n",
    "    'layers.7.layers.4.weight': 'MobilenetV1/Conv2d_8_pointwise/BatchNorm/gamma',\n",
    "    'layers.8.layers.4.weight': 'MobilenetV1/Conv2d_9_pointwise/BatchNorm/gamma',\n",
    "    'layers.9.layers.4.weight': 'MobilenetV1/Conv2d_10_pointwise/BatchNorm/gamma',\n",
    "    'layers.10.layers.4.weight': 'MobilenetV1/Conv2d_11_pointwise/BatchNorm/gamma',\n",
    "    'layers.11.layers.4.weight': 'MobilenetV1/Conv2d_12_pointwise/BatchNorm/gamma',\n",
    "    'layers.12.layers.4.weight': 'MobilenetV1/Conv2d_13_pointwise/BatchNorm/gamma',\n",
    "    'layers.0.layers.4.bias': 'MobilenetV1/Conv2d_1_pointwise/BatchNorm/beta',\n",
    "    'layers.1.layers.4.bias': 'MobilenetV1/Conv2d_2_pointwise/BatchNorm/beta',\n",
    "    'layers.2.layers.4.bias': 'MobilenetV1/Conv2d_3_pointwise/BatchNorm/beta',\n",
    "    'layers.3.layers.4.bias': 'MobilenetV1/Conv2d_4_pointwise/BatchNorm/beta',\n",
    "    'layers.4.layers.4.bias': 'MobilenetV1/Conv2d_5_pointwise/BatchNorm/beta',\n",
    "    'layers.5.layers.4.bias': 'MobilenetV1/Conv2d_6_pointwise/BatchNorm/beta',\n",
    "    'layers.6.layers.4.bias': 'MobilenetV1/Conv2d_7_pointwise/BatchNorm/beta',\n",
    "    'layers.7.layers.4.bias': 'MobilenetV1/Conv2d_8_pointwise/BatchNorm/beta',\n",
    "    'layers.8.layers.4.bias': 'MobilenetV1/Conv2d_9_pointwise/BatchNorm/beta',\n",
    "    'layers.9.layers.4.bias': 'MobilenetV1/Conv2d_10_pointwise/BatchNorm/beta',\n",
    "    'layers.10.layers.4.bias': 'MobilenetV1/Conv2d_11_pointwise/BatchNorm/beta',\n",
    "    'layers.11.layers.4.bias': 'MobilenetV1/Conv2d_12_pointwise/BatchNorm/beta',\n",
    "    'layers.12.layers.4.bias': 'MobilenetV1/Conv2d_13_pointwise/BatchNorm/beta'\n",
    "}"
   ]
  },
  {
   "cell_type": "markdown",
   "metadata": {},
   "source": [
    "# Create a pytorch model and transfer the weights"
   ]
  },
  {
   "cell_type": "code",
   "execution_count": null,
   "metadata": {},
   "outputs": [],
   "source": [
    "net = MobileNet()\n",
    "net.eval()\n",
    "\n",
    "for n, m in net.named_modules():\n",
    "    if n in batch_norms:\n",
    "        assert isinstance(m, nn.BatchNorm2d)\n",
    "        m.running_mean = weights[batch_norms[n] + 'moving_mean']\n",
    "        m.running_var = weights[batch_norms[n] + 'moving_variance']\n",
    "\n",
    "for n, p in net.named_parameters():\n",
    "    w = weights[mapping[n]]\n",
    "    if len(w.shape) == 4:\n",
    "        if n.endswith('.layers.0.weight'):\n",
    "            w = w.permute(2, 3, 0, 1).contiguous()\n",
    "        else:\n",
    "            w = w.permute(3, 2, 0, 1).contiguous()\n",
    "    p.data = w"
   ]
  },
  {
   "cell_type": "code",
   "execution_count": null,
   "metadata": {},
   "outputs": [],
   "source": [
    "classifier = nn.Sequential(\n",
    "    nn.AvgPool2d(7),\n",
    "    nn.Conv2d(1024, 1001, 1),\n",
    "    nn.Softmax(dim=1)\n",
    ")\n",
    "\n",
    "classifier[1].weight.data = weights['MobilenetV1/Logits/Conv2d_1c_1x1/weights'].permute(3, 2, 0, 1).contiguous()\n",
    "classifier[1].bias.data = weights['MobilenetV1/Logits/Conv2d_1c_1x1/biases']"
   ]
  },
  {
   "cell_type": "markdown",
   "metadata": {},
   "source": [
    "# Compare predictions"
   ]
  },
  {
   "cell_type": "code",
   "execution_count": null,
   "metadata": {},
   "outputs": [],
   "source": [
    "features = net(torch.FloatTensor(image).permute(0, 3, 1, 2))['c5']\n",
    "torch_outputs = classifier(features).squeeze().detach().numpy()"
   ]
  },
  {
   "cell_type": "code",
   "execution_count": null,
   "metadata": {},
   "outputs": [],
   "source": [
    "# top prediction\n",
    "print(torch_outputs.argmax(), tf_outputs.argmax())\n",
    "print(torch_outputs.max(), tf_outputs.max())"
   ]
  },
  {
   "cell_type": "code",
   "execution_count": null,
   "metadata": {
    "scrolled": true
   },
   "outputs": [],
   "source": [
    "# most probable classes\n",
    "print(np.argsort(tf_outputs)[-10:])\n",
    "print(np.argsort(torch_outputs)[-10:])"
   ]
  },
  {
   "cell_type": "code",
   "execution_count": null,
   "metadata": {},
   "outputs": [],
   "source": [
    "(np.abs(torch_outputs - tf_outputs) < 1e-1).all()"
   ]
  },
  {
   "cell_type": "markdown",
   "metadata": {
    "scrolled": true
   },
   "source": [
    "# Save"
   ]
  },
  {
   "cell_type": "code",
   "execution_count": null,
   "metadata": {},
   "outputs": [],
   "source": [
    "torch.save(net.state_dict(), '../pretrained/mobilenet.pth')"
   ]
  }
 ],
 "metadata": {
  "kernelspec": {
   "display_name": "Python 3",
   "language": "python",
   "name": "python3"
  },
  "language_info": {
   "codemirror_mode": {
    "name": "ipython",
    "version": 3
   },
   "file_extension": ".py",
   "mimetype": "text/x-python",
   "name": "python",
   "nbconvert_exporter": "python",
   "pygments_lexer": "ipython3",
   "version": "3.6.7"
  }
 },
 "nbformat": 4,
 "nbformat_minor": 2
}
